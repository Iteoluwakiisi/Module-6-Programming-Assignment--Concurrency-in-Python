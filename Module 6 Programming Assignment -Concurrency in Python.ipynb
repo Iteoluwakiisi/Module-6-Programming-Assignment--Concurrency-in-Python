{
 "cells": [
  {
   "cell_type": "raw",
   "id": "b5a297ca-668d-4047-8cba-398d55ef331a",
   "metadata": {},
   "source": [
    "Author: Iteoluwakiisi George Olaniyan\n",
    "Title: Textboook assignment"
   ]
  },
  {
   "cell_type": "code",
   "execution_count": null,
   "id": "36093916-a7d5-44aa-953e-89e5ec38a5eb",
   "metadata": {},
   "outputs": [],
   "source": []
  },
  {
   "cell_type": "code",
   "execution_count": 1,
   "id": "b969d926-8b0b-4e42-870c-82303ee76787",
   "metadata": {},
   "outputs": [],
   "source": [
    "from datetime import datetime"
   ]
  },
  {
   "cell_type": "code",
   "execution_count": 2,
   "id": "112eb040-6d73-40e8-857b-18b61228b58e",
   "metadata": {},
   "outputs": [],
   "source": [
    "# To get the current date as a string\n",
    "current_date = datetime.now().strftime(\"%d-%m-%Y\")"
   ]
  },
  {
   "cell_type": "code",
   "execution_count": 3,
   "id": "3f4a3ddf-6318-4caf-9367-0aa780acb55b",
   "metadata": {},
   "outputs": [],
   "source": [
    "# Writing the date string to the file\n",
    "with open(\"today.txt\", \"w\") as file:\n",
    "    file.write(current_date)"
   ]
  },
  {
   "cell_type": "code",
   "execution_count": 4,
   "id": "ae93db15-843d-4491-a1e0-b50e8ca6aa6c",
   "metadata": {},
   "outputs": [],
   "source": [
    "# To read the date string from the file\n",
    "with open(\"today.txt\", \"r\") as file:\n",
    "    today_string = file.read()"
   ]
  },
  {
   "cell_type": "code",
   "execution_count": 6,
   "id": "adbbb203-d318-475b-9a68-e09e96c6d1d5",
   "metadata": {},
   "outputs": [],
   "source": [
    "# To finally parse the date string into a datetime object\n",
    "parsed_date = datetime.strptime(today_string, \"%d-%m-%Y\")"
   ]
  },
  {
   "cell_type": "raw",
   "id": "44be9194-1b04-480d-af53-5a7ffbcbe95c",
   "metadata": {},
   "source": []
  },
  {
   "cell_type": "markdown",
   "id": "8c8b5275-85ee-4711-a712-d91bd74ae665",
   "metadata": {},
   "source": []
  },
  {
   "cell_type": "code",
   "execution_count": 10,
   "id": "d1ad324e-9fc5-4127-b579-7ed6309d9d4a",
   "metadata": {},
   "outputs": [],
   "source": [
    "import multiprocessing\n",
    "import time\n",
    "import random\n",
    "from datetime import datetime\n",
    "\n",
    "def worker():\n",
    "    # Sleep for a random time between 0 and 1 second\n",
    "    wait_time = random.uniform(0, 1)\n",
    "    time.sleep(wait_time)\n",
    "\n",
    "    # To print the current time after waking up\n",
    "    current_time = datetime.now().strftime(\"%H:%M:%S\")\n",
    "    print(f\"Process {multiprocessing.current_process().name} finished at {current_time}\")\n",
    "\n",
    "if __name__ == \"__main__\":\n",
    "    # Create 3 separate processes\n",
    "    processes = []\n",
    "\n",
    "    for i in range(3):\n",
    "        process = multiprocessing.Process(target=worker, name=f\"Process-{i+1}\")\n",
    "        processes.append(process)\n",
    "        process.start()\n",
    "\n",
    "    # Wait for all processes to finish\n",
    "    for process in processes:\n",
    "        process.join()\n"
   ]
  },
  {
   "cell_type": "code",
   "execution_count": null,
   "id": "148f2d36-893c-468c-bf28-b56092a84527",
   "metadata": {},
   "outputs": [],
   "source": []
  }
 ],
 "metadata": {
  "kernelspec": {
   "display_name": "Python 3 (ipykernel)",
   "language": "python",
   "name": "python3"
  },
  "language_info": {
   "codemirror_mode": {
    "name": "ipython",
    "version": 3
   },
   "file_extension": ".py",
   "mimetype": "text/x-python",
   "name": "python",
   "nbconvert_exporter": "python",
   "pygments_lexer": "ipython3",
   "version": "3.12.4"
  }
 },
 "nbformat": 4,
 "nbformat_minor": 5
}
